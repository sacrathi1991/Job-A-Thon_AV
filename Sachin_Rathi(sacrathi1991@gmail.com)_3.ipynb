{
 "cells": [
  {
   "cell_type": "code",
   "execution_count": 14,
   "id": "a90c3a81",
   "metadata": {
    "ExecuteTime": {
     "end_time": "2022-02-13T17:46:29.775026Z",
     "start_time": "2022-02-13T17:46:29.770303Z"
    }
   },
   "outputs": [],
   "source": [
    "# Libraries\n",
    "import pandas as pd\n",
    "import numpy as np\n",
    "import warnings \n",
    "warnings.filterwarnings('ignore')\n",
    "\n",
    "from IPython.core.interactiveshell import InteractiveShell\n",
    "InteractiveShell.ast_node_interactivity = 'all'\n",
    "pd.options.display.max_columns = None\n",
    "\n",
    "from sklearn.model_selection import train_test_split\n",
    "from sklearn.metrics import r2_score\n",
    "import gc\n",
    "from tqdm import tqdm\n",
    "path = '/home/sachin.rathi/All_Code/Absolutdata/data/'"
   ]
  },
  {
   "cell_type": "code",
   "execution_count": 15,
   "id": "3f029237",
   "metadata": {
    "ExecuteTime": {
     "end_time": "2022-02-13T17:46:29.897228Z",
     "start_time": "2022-02-13T17:46:29.779070Z"
    }
   },
   "outputs": [
    {
     "data": {
      "text/plain": [
       "((89197, 10), (11121, 9))"
      ]
     },
     "execution_count": 15,
     "metadata": {},
     "output_type": "execute_result"
    }
   ],
   "source": [
    "# read train and test data\n",
    "df = pd.read_csv(path+'train_0OECtn8.csv')\n",
    "test = pd.read_csv(path+'test_1zqHu22.csv')\n",
    "\n",
    "df.shape,test.shape"
   ]
  },
  {
   "cell_type": "markdown",
   "id": "10d4fa4c",
   "metadata": {},
   "source": [
    "### EDA"
   ]
  },
  {
   "cell_type": "code",
   "execution_count": 16,
   "id": "7ed275bd",
   "metadata": {
    "ExecuteTime": {
     "end_time": "2022-02-13T17:46:29.913859Z",
     "start_time": "2022-02-13T17:46:29.899086Z"
    }
   },
   "outputs": [
    {
     "data": {
      "text/plain": [
       "row_id              0\n",
       "user_id             0\n",
       "category_id         0\n",
       "video_id            0\n",
       "age                 0\n",
       "gender              0\n",
       "profession          0\n",
       "followers           0\n",
       "views               0\n",
       "engagement_score    0\n",
       "dtype: int64"
      ]
     },
     "execution_count": 16,
     "metadata": {},
     "output_type": "execute_result"
    }
   ],
   "source": [
    "# check missin values\n",
    "df.isnull().sum()"
   ]
  },
  {
   "cell_type": "code",
   "execution_count": 17,
   "id": "85d08274",
   "metadata": {
    "ExecuteTime": {
     "end_time": "2022-02-13T17:46:29.917920Z",
     "start_time": "2022-02-13T17:46:29.915976Z"
    }
   },
   "outputs": [],
   "source": [
    "# User who upload more than 5 videos\n",
    "# ab = [i for i in df['user_id'].unique() if len(df[df['user_id'] == i]) > 5]"
   ]
  },
  {
   "cell_type": "code",
   "execution_count": 18,
   "id": "07283983",
   "metadata": {
    "ExecuteTime": {
     "end_time": "2022-02-13T17:46:29.927893Z",
     "start_time": "2022-02-13T17:46:29.919558Z"
    }
   },
   "outputs": [
    {
     "data": {
      "text/plain": [
       "27734"
      ]
     },
     "execution_count": 18,
     "metadata": {},
     "output_type": "execute_result"
    },
    {
     "data": {
      "text/plain": [
       "10384"
      ]
     },
     "execution_count": 18,
     "metadata": {},
     "output_type": "execute_result"
    }
   ],
   "source": [
    "# fina unique user id both dataset\n",
    "df['user_id'].nunique()\n",
    "test['user_id'].nunique()"
   ]
  },
  {
   "cell_type": "code",
   "execution_count": 19,
   "id": "75c8c9bc",
   "metadata": {
    "ExecuteTime": {
     "end_time": "2022-02-13T17:46:29.967968Z",
     "start_time": "2022-02-13T17:46:29.929335Z"
    }
   },
   "outputs": [
    {
     "data": {
      "text/plain": [
       "0"
      ]
     },
     "execution_count": 19,
     "metadata": {},
     "output_type": "execute_result"
    },
    {
     "data": {
      "text/plain": [
       "17350"
      ]
     },
     "execution_count": 19,
     "metadata": {},
     "output_type": "execute_result"
    }
   ],
   "source": [
    "# find users which are in test data but not in train data\n",
    "len(set(test['user_id']).difference(set(df['user_id'])))\n",
    "\n",
    "# find users which are in train data but not in test data\n",
    "len(set(df['user_id']).difference(set(test['user_id'])))"
   ]
  },
  {
   "cell_type": "code",
   "execution_count": 20,
   "id": "29996f4b",
   "metadata": {
    "ExecuteTime": {
     "end_time": "2022-02-13T17:46:29.990148Z",
     "start_time": "2022-02-13T17:46:29.969284Z"
    }
   },
   "outputs": [
    {
     "name": "stdout",
     "output_type": "stream",
     "text": [
      "columns row_id have 89197 label in data\n",
      "columns user_id have 27734 label in data\n",
      "columns category_id have 47 label in data\n",
      "columns video_id have 175 label in data\n",
      "columns age have 58 label in data\n",
      "columns gender have 2 label in data\n",
      "columns profession have 3 label in data\n",
      "columns followers have 17 label in data\n",
      "columns views have 43 label in data\n",
      "columns engagement_score have 229 label in data\n"
     ]
    }
   ],
   "source": [
    "# check unique values in each column\n",
    "for i in df.columns:\n",
    "    print(f\"columns {i} have {df[i].nunique()} label in data\")"
   ]
  },
  {
   "cell_type": "code",
   "execution_count": 21,
   "id": "5d86a15b",
   "metadata": {
    "ExecuteTime": {
     "end_time": "2022-02-13T17:46:30.041377Z",
     "start_time": "2022-02-13T17:46:29.991519Z"
    }
   },
   "outputs": [
    {
     "data": {
      "text/plain": [
       "180"
      ]
     },
     "execution_count": 21,
     "metadata": {},
     "output_type": "execute_result"
    }
   ],
   "source": [
    "gc.collect()"
   ]
  },
  {
   "cell_type": "markdown",
   "id": "f40a8eb4",
   "metadata": {},
   "source": [
    "#### Data cleaning"
   ]
  },
  {
   "cell_type": "code",
   "execution_count": 22,
   "id": "d0c1d858",
   "metadata": {
    "ExecuteTime": {
     "end_time": "2022-02-13T17:46:30.056283Z",
     "start_time": "2022-02-13T17:46:30.042861Z"
    }
   },
   "outputs": [],
   "source": [
    "# filter train data with only those users which are in test data\n",
    "df = df.loc[df.set_index(['user_id']).index.isin(test.set_index(['user_id']).index)]"
   ]
  },
  {
   "cell_type": "code",
   "execution_count": 23,
   "id": "5db43c18",
   "metadata": {
    "ExecuteTime": {
     "end_time": "2022-02-13T17:46:30.066197Z",
     "start_time": "2022-02-13T17:46:30.058898Z"
    }
   },
   "outputs": [
    {
     "data": {
      "text/plain": [
       "((39204, 10), (11121, 9))"
      ]
     },
     "execution_count": 23,
     "metadata": {},
     "output_type": "execute_result"
    },
    {
     "data": {
      "text/plain": [
       "10384"
      ]
     },
     "execution_count": 23,
     "metadata": {},
     "output_type": "execute_result"
    },
    {
     "data": {
      "text/plain": [
       "10384"
      ]
     },
     "execution_count": 23,
     "metadata": {},
     "output_type": "execute_result"
    }
   ],
   "source": [
    "#check reshape again and unique user in both data\n",
    "df.shape,test.shape\n",
    "\n",
    "# Check unique user again on each data\n",
    "df['user_id'].nunique()\n",
    "test['user_id'].nunique()"
   ]
  },
  {
   "cell_type": "code",
   "execution_count": 24,
   "id": "480a26e3",
   "metadata": {
    "ExecuteTime": {
     "end_time": "2022-02-13T17:46:30.083610Z",
     "start_time": "2022-02-13T17:46:30.067921Z"
    }
   },
   "outputs": [
    {
     "data": {
      "text/html": [
       "<div>\n",
       "<style scoped>\n",
       "    .dataframe tbody tr th:only-of-type {\n",
       "        vertical-align: middle;\n",
       "    }\n",
       "\n",
       "    .dataframe tbody tr th {\n",
       "        vertical-align: top;\n",
       "    }\n",
       "\n",
       "    .dataframe thead th {\n",
       "        text-align: right;\n",
       "    }\n",
       "</style>\n",
       "<table border=\"1\" class=\"dataframe\">\n",
       "  <thead>\n",
       "    <tr style=\"text-align: right;\">\n",
       "      <th></th>\n",
       "      <th>row_id</th>\n",
       "      <th>user_id</th>\n",
       "      <th>category_id</th>\n",
       "      <th>video_id</th>\n",
       "      <th>age</th>\n",
       "      <th>gender</th>\n",
       "      <th>profession</th>\n",
       "      <th>followers</th>\n",
       "      <th>views</th>\n",
       "      <th>engagement_score</th>\n",
       "    </tr>\n",
       "  </thead>\n",
       "  <tbody>\n",
       "    <tr>\n",
       "      <th>0</th>\n",
       "      <td>3</td>\n",
       "      <td>1840</td>\n",
       "      <td>12</td>\n",
       "      <td>24</td>\n",
       "      <td>19</td>\n",
       "      <td>Male</td>\n",
       "      <td>Student</td>\n",
       "      <td>180</td>\n",
       "      <td>138</td>\n",
       "      <td>4.35</td>\n",
       "    </tr>\n",
       "    <tr>\n",
       "      <th>1</th>\n",
       "      <td>6</td>\n",
       "      <td>9323</td>\n",
       "      <td>25</td>\n",
       "      <td>139</td>\n",
       "      <td>35</td>\n",
       "      <td>Male</td>\n",
       "      <td>Other</td>\n",
       "      <td>240</td>\n",
       "      <td>317</td>\n",
       "      <td>3.33</td>\n",
       "    </tr>\n",
       "    <tr>\n",
       "      <th>2</th>\n",
       "      <td>7</td>\n",
       "      <td>2071</td>\n",
       "      <td>7</td>\n",
       "      <td>14</td>\n",
       "      <td>23</td>\n",
       "      <td>Male</td>\n",
       "      <td>Student</td>\n",
       "      <td>160</td>\n",
       "      <td>467</td>\n",
       "      <td>3.80</td>\n",
       "    </tr>\n",
       "  </tbody>\n",
       "</table>\n",
       "</div>"
      ],
      "text/plain": [
       "   row_id  user_id  category_id  video_id  age gender profession  followers  \\\n",
       "0       3     1840           12        24   19   Male    Student        180   \n",
       "1       6     9323           25       139   35   Male      Other        240   \n",
       "2       7     2071            7        14   23   Male    Student        160   \n",
       "\n",
       "   views  engagement_score  \n",
       "0    138              4.35  \n",
       "1    317              3.33  \n",
       "2    467              3.80  "
      ]
     },
     "execution_count": 24,
     "metadata": {},
     "output_type": "execute_result"
    },
    {
     "data": {
      "text/html": [
       "<div>\n",
       "<style scoped>\n",
       "    .dataframe tbody tr th:only-of-type {\n",
       "        vertical-align: middle;\n",
       "    }\n",
       "\n",
       "    .dataframe tbody tr th {\n",
       "        vertical-align: top;\n",
       "    }\n",
       "\n",
       "    .dataframe thead th {\n",
       "        text-align: right;\n",
       "    }\n",
       "</style>\n",
       "<table border=\"1\" class=\"dataframe\">\n",
       "  <thead>\n",
       "    <tr style=\"text-align: right;\">\n",
       "      <th></th>\n",
       "      <th>row_id</th>\n",
       "      <th>user_id</th>\n",
       "      <th>category_id</th>\n",
       "      <th>video_id</th>\n",
       "      <th>age</th>\n",
       "      <th>gender</th>\n",
       "      <th>profession</th>\n",
       "      <th>followers</th>\n",
       "      <th>views</th>\n",
       "    </tr>\n",
       "  </thead>\n",
       "  <tbody>\n",
       "    <tr>\n",
       "      <th>0</th>\n",
       "      <td>89198</td>\n",
       "      <td>7986</td>\n",
       "      <td>12</td>\n",
       "      <td>42</td>\n",
       "      <td>14</td>\n",
       "      <td>Male</td>\n",
       "      <td>Student</td>\n",
       "      <td>180</td>\n",
       "      <td>138</td>\n",
       "    </tr>\n",
       "    <tr>\n",
       "      <th>1</th>\n",
       "      <td>89199</td>\n",
       "      <td>11278</td>\n",
       "      <td>34</td>\n",
       "      <td>115</td>\n",
       "      <td>14</td>\n",
       "      <td>Male</td>\n",
       "      <td>Student</td>\n",
       "      <td>230</td>\n",
       "      <td>840</td>\n",
       "    </tr>\n",
       "    <tr>\n",
       "      <th>2</th>\n",
       "      <td>89200</td>\n",
       "      <td>17245</td>\n",
       "      <td>8</td>\n",
       "      <td>110</td>\n",
       "      <td>44</td>\n",
       "      <td>Female</td>\n",
       "      <td>Working Professional</td>\n",
       "      <td>280</td>\n",
       "      <td>628</td>\n",
       "    </tr>\n",
       "  </tbody>\n",
       "</table>\n",
       "</div>"
      ],
      "text/plain": [
       "   row_id  user_id  category_id  video_id  age  gender            profession  \\\n",
       "0   89198     7986           12        42   14    Male               Student   \n",
       "1   89199    11278           34       115   14    Male               Student   \n",
       "2   89200    17245            8       110   44  Female  Working Professional   \n",
       "\n",
       "   followers  views  \n",
       "0        180    138  \n",
       "1        230    840  \n",
       "2        280    628  "
      ]
     },
     "execution_count": 24,
     "metadata": {},
     "output_type": "execute_result"
    }
   ],
   "source": [
    "# reset index for both dataset\n",
    "df.reset_index(drop=True,inplace=True)\n",
    "test.reset_index(drop=True,inplace=True)\n",
    "\n",
    "df.head(3)\n",
    "test.head(3)"
   ]
  },
  {
   "cell_type": "code",
   "execution_count": 25,
   "id": "e2c2c996",
   "metadata": {
    "ExecuteTime": {
     "end_time": "2022-02-13T17:46:30.089757Z",
     "start_time": "2022-02-13T17:46:30.085030Z"
    }
   },
   "outputs": [
    {
     "data": {
      "text/plain": [
       "2.65"
      ]
     },
     "execution_count": 25,
     "metadata": {},
     "output_type": "execute_result"
    }
   ],
   "source": [
    "round(df[df['user_id'] == 2]['engagement_score'].min(),2)"
   ]
  },
  {
   "cell_type": "code",
   "execution_count": 26,
   "id": "72f4a5ee",
   "metadata": {
    "ExecuteTime": {
     "end_time": "2022-02-13T17:47:00.625675Z",
     "start_time": "2022-02-13T17:46:30.091390Z"
    }
   },
   "outputs": [
    {
     "name": "stderr",
     "output_type": "stream",
     "text": [
      "100%|██████████| 10384/10384 [00:30<00:00, 340.67it/s]\n"
     ]
    }
   ],
   "source": [
    "# Get mean of engagement_score for each user in training data.\n",
    "cv_1 = {}\n",
    "cv_2 = {}\n",
    "cv_3 = {}\n",
    "cv_4 = {}\n",
    "cv_5 = {}\n",
    "cv_6 = {}\n",
    "# cv_4 = {}\n",
    "for i in tqdm(df['user_id'].unique()):\n",
    "    # Overall mean\n",
    "    cv_1[i] = round(df[df['user_id'] == i]['engagement_score'].mean(),2)\n",
    "    \n",
    "    # Mean from first 2 row\n",
    "    cv_2[i] = round(df[df['user_id'] == i].head(2)['engagement_score'].mean(),2)\n",
    "    \n",
    "    # over all std\n",
    "    cv_3[i] = round(df[df['user_id'] == i]['engagement_score'].std(),2)\n",
    "    \n",
    "    # std from first 2 row\n",
    "    cv_4[i] = round(df[df['user_id'] == i].head(2)['engagement_score'].std(),2)\n",
    "    \n",
    "        # over all std\n",
    "    cv_5[i] = round(df[df['user_id'] == i]['engagement_score'].min(),2)\n",
    "    \n",
    "    # std from first 2 row\n",
    "    cv_6[i] = round(df[df['user_id'] == i].head(2)['engagement_score'].max(),2)\n",
    "\n",
    "# Create df using dictionary\n",
    "cv_1 = pd.DataFrame.from_dict(cv_1,orient = 'index').reset_index()\n",
    "cv_1.columns = ['user_id','mean']\n",
    "\n",
    "cv_2 = pd.DataFrame.from_dict(cv_2,orient = 'index').reset_index()\n",
    "cv_2.columns = ['user_id','mean_2']\n",
    "\n",
    "cv_3 = pd.DataFrame.from_dict(cv_3,orient = 'index').reset_index()\n",
    "cv_3.columns = ['user_id','std']\n",
    "\n",
    "cv_4 = pd.DataFrame.from_dict(cv_4,orient = 'index').reset_index()\n",
    "cv_4.columns = ['user_id','std_2']\n",
    "\n",
    "cv_5 = pd.DataFrame.from_dict(cv_5,orient = 'index').reset_index()\n",
    "cv_5.columns = ['user_id','min']\n",
    "\n",
    "cv_6 = pd.DataFrame.from_dict(cv_6,orient = 'index').reset_index()\n",
    "cv_6.columns = ['user_id','max']"
   ]
  },
  {
   "cell_type": "code",
   "execution_count": null,
   "id": "049b34c1",
   "metadata": {
    "ExecuteTime": {
     "end_time": "2022-02-13T17:44:10.970143Z",
     "start_time": "2022-02-13T17:44:10.919444Z"
    }
   },
   "outputs": [],
   "source": []
  },
  {
   "cell_type": "code",
   "execution_count": 27,
   "id": "5150d403",
   "metadata": {
    "ExecuteTime": {
     "end_time": "2022-02-13T17:47:00.643532Z",
     "start_time": "2022-02-13T17:47:00.627429Z"
    }
   },
   "outputs": [
    {
     "data": {
      "text/html": [
       "<div>\n",
       "<style scoped>\n",
       "    .dataframe tbody tr th:only-of-type {\n",
       "        vertical-align: middle;\n",
       "    }\n",
       "\n",
       "    .dataframe tbody tr th {\n",
       "        vertical-align: top;\n",
       "    }\n",
       "\n",
       "    .dataframe thead th {\n",
       "        text-align: right;\n",
       "    }\n",
       "</style>\n",
       "<table border=\"1\" class=\"dataframe\">\n",
       "  <thead>\n",
       "    <tr style=\"text-align: right;\">\n",
       "      <th></th>\n",
       "      <th>row_id</th>\n",
       "      <th>user_id</th>\n",
       "      <th>category_id</th>\n",
       "      <th>video_id</th>\n",
       "      <th>age</th>\n",
       "      <th>gender</th>\n",
       "      <th>profession</th>\n",
       "      <th>followers</th>\n",
       "      <th>views</th>\n",
       "    </tr>\n",
       "  </thead>\n",
       "  <tbody>\n",
       "    <tr>\n",
       "      <th>-1</th>\n",
       "      <td>89198</td>\n",
       "      <td>7986</td>\n",
       "      <td>12</td>\n",
       "      <td>42</td>\n",
       "      <td>14</td>\n",
       "      <td>Male</td>\n",
       "      <td>Student</td>\n",
       "      <td>180</td>\n",
       "      <td>138</td>\n",
       "    </tr>\n",
       "    <tr>\n",
       "      <th>-2</th>\n",
       "      <td>89199</td>\n",
       "      <td>11278</td>\n",
       "      <td>34</td>\n",
       "      <td>115</td>\n",
       "      <td>14</td>\n",
       "      <td>Male</td>\n",
       "      <td>Student</td>\n",
       "      <td>230</td>\n",
       "      <td>840</td>\n",
       "    </tr>\n",
       "    <tr>\n",
       "      <th>-3</th>\n",
       "      <td>89200</td>\n",
       "      <td>17245</td>\n",
       "      <td>8</td>\n",
       "      <td>110</td>\n",
       "      <td>44</td>\n",
       "      <td>Female</td>\n",
       "      <td>Working Professional</td>\n",
       "      <td>280</td>\n",
       "      <td>628</td>\n",
       "    </tr>\n",
       "  </tbody>\n",
       "</table>\n",
       "</div>"
      ],
      "text/plain": [
       "    row_id  user_id  category_id  video_id  age  gender            profession  \\\n",
       "-1   89198     7986           12        42   14    Male               Student   \n",
       "-2   89199    11278           34       115   14    Male               Student   \n",
       "-3   89200    17245            8       110   44  Female  Working Professional   \n",
       "\n",
       "    followers  views  \n",
       "-1        180    138  \n",
       "-2        230    840  \n",
       "-3        280    628  "
      ]
     },
     "execution_count": 27,
     "metadata": {},
     "output_type": "execute_result"
    }
   ],
   "source": [
    "# set test data index as negative ( which help to divide the dataset again)\n",
    "index = np.arange(1,len(test)+1)\n",
    "inde = [-i for i in index]\n",
    "test.index= inde\n",
    "\n",
    "test.head(3)"
   ]
  },
  {
   "cell_type": "markdown",
   "id": "12601971",
   "metadata": {},
   "source": [
    "#### Feature Engineering"
   ]
  },
  {
   "cell_type": "code",
   "execution_count": 28,
   "id": "2845d296",
   "metadata": {
    "ExecuteTime": {
     "end_time": "2022-02-13T17:47:00.660081Z",
     "start_time": "2022-02-13T17:47:00.645061Z"
    }
   },
   "outputs": [],
   "source": [
    "# concat train and test data to create lag variables\n",
    "final = pd.concat([df,test],axis=0)\n",
    "\n",
    "# final = final.sort_values(['user_id'])\n",
    "final = final.fillna(0)"
   ]
  },
  {
   "cell_type": "code",
   "execution_count": 29,
   "id": "25edb6b7",
   "metadata": {
    "ExecuteTime": {
     "end_time": "2022-02-13T17:47:00.664035Z",
     "start_time": "2022-02-13T17:47:00.661714Z"
    }
   },
   "outputs": [],
   "source": [
    "# Create lag variables"
   ]
  },
  {
   "cell_type": "code",
   "execution_count": 30,
   "id": "857fe534",
   "metadata": {
    "ExecuteTime": {
     "end_time": "2022-02-13T17:47:00.677349Z",
     "start_time": "2022-02-13T17:47:00.665390Z"
    }
   },
   "outputs": [
    {
     "data": {
      "text/html": [
       "<div>\n",
       "<style scoped>\n",
       "    .dataframe tbody tr th:only-of-type {\n",
       "        vertical-align: middle;\n",
       "    }\n",
       "\n",
       "    .dataframe tbody tr th {\n",
       "        vertical-align: top;\n",
       "    }\n",
       "\n",
       "    .dataframe thead th {\n",
       "        text-align: right;\n",
       "    }\n",
       "</style>\n",
       "<table border=\"1\" class=\"dataframe\">\n",
       "  <thead>\n",
       "    <tr style=\"text-align: right;\">\n",
       "      <th></th>\n",
       "      <th>row_id</th>\n",
       "      <th>user_id</th>\n",
       "      <th>category_id</th>\n",
       "      <th>video_id</th>\n",
       "      <th>age</th>\n",
       "      <th>gender</th>\n",
       "      <th>profession</th>\n",
       "      <th>followers</th>\n",
       "      <th>views</th>\n",
       "      <th>engagement_score</th>\n",
       "    </tr>\n",
       "  </thead>\n",
       "  <tbody>\n",
       "    <tr>\n",
       "      <th>0</th>\n",
       "      <td>3</td>\n",
       "      <td>1840</td>\n",
       "      <td>12</td>\n",
       "      <td>24</td>\n",
       "      <td>19</td>\n",
       "      <td>Male</td>\n",
       "      <td>Student</td>\n",
       "      <td>180</td>\n",
       "      <td>138</td>\n",
       "      <td>4.35</td>\n",
       "    </tr>\n",
       "    <tr>\n",
       "      <th>1</th>\n",
       "      <td>6</td>\n",
       "      <td>9323</td>\n",
       "      <td>25</td>\n",
       "      <td>139</td>\n",
       "      <td>35</td>\n",
       "      <td>Male</td>\n",
       "      <td>Other</td>\n",
       "      <td>240</td>\n",
       "      <td>317</td>\n",
       "      <td>3.33</td>\n",
       "    </tr>\n",
       "    <tr>\n",
       "      <th>2</th>\n",
       "      <td>7</td>\n",
       "      <td>2071</td>\n",
       "      <td>7</td>\n",
       "      <td>14</td>\n",
       "      <td>23</td>\n",
       "      <td>Male</td>\n",
       "      <td>Student</td>\n",
       "      <td>160</td>\n",
       "      <td>467</td>\n",
       "      <td>3.80</td>\n",
       "    </tr>\n",
       "    <tr>\n",
       "      <th>3</th>\n",
       "      <td>8</td>\n",
       "      <td>21848</td>\n",
       "      <td>8</td>\n",
       "      <td>100</td>\n",
       "      <td>18</td>\n",
       "      <td>Male</td>\n",
       "      <td>Student</td>\n",
       "      <td>280</td>\n",
       "      <td>628</td>\n",
       "      <td>3.87</td>\n",
       "    </tr>\n",
       "    <tr>\n",
       "      <th>4</th>\n",
       "      <td>10</td>\n",
       "      <td>16058</td>\n",
       "      <td>5</td>\n",
       "      <td>161</td>\n",
       "      <td>19</td>\n",
       "      <td>Male</td>\n",
       "      <td>Student</td>\n",
       "      <td>240</td>\n",
       "      <td>229</td>\n",
       "      <td>3.80</td>\n",
       "    </tr>\n",
       "  </tbody>\n",
       "</table>\n",
       "</div>"
      ],
      "text/plain": [
       "   row_id  user_id  category_id  video_id  age gender profession  followers  \\\n",
       "0       3     1840           12        24   19   Male    Student        180   \n",
       "1       6     9323           25       139   35   Male      Other        240   \n",
       "2       7     2071            7        14   23   Male    Student        160   \n",
       "3       8    21848            8       100   18   Male    Student        280   \n",
       "4      10    16058            5       161   19   Male    Student        240   \n",
       "\n",
       "   views  engagement_score  \n",
       "0    138              4.35  \n",
       "1    317              3.33  \n",
       "2    467              3.80  \n",
       "3    628              3.87  \n",
       "4    229              3.80  "
      ]
     },
     "execution_count": 30,
     "metadata": {},
     "output_type": "execute_result"
    }
   ],
   "source": [
    "final.head()"
   ]
  },
  {
   "cell_type": "code",
   "execution_count": 31,
   "id": "ca987802",
   "metadata": {
    "ExecuteTime": {
     "end_time": "2022-02-13T17:47:00.696444Z",
     "start_time": "2022-02-13T17:47:00.678764Z"
    }
   },
   "outputs": [],
   "source": [
    "# create lag feature of engagement_score user wise\n",
    "final['engagement_score_lag_1'] = final.groupby(['user_id'])['engagement_score'].shift(1)\n",
    "\n",
    "# create lag feature of engagement_score user wise and category wise\n",
    "final['engagement_score_cat_wise_1'] = final.groupby(['user_id','category_id'])['engagement_score'].shift(1)"
   ]
  },
  {
   "cell_type": "code",
   "execution_count": 32,
   "id": "1faa436a",
   "metadata": {
    "ExecuteTime": {
     "end_time": "2022-02-13T17:47:00.708529Z",
     "start_time": "2022-02-13T17:47:00.697951Z"
    }
   },
   "outputs": [],
   "source": [
    "final = final.fillna(0)"
   ]
  },
  {
   "cell_type": "code",
   "execution_count": 33,
   "id": "debcdc13",
   "metadata": {
    "ExecuteTime": {
     "end_time": "2022-02-13T17:47:00.766341Z",
     "start_time": "2022-02-13T17:47:00.709958Z"
    }
   },
   "outputs": [],
   "source": [
    "# Map column into data\n",
    "final['Mean'] = final['user_id'].map(dict(zip(cv_1['user_id'],cv_1['mean'])))\n",
    "final['Mean_2'] = final['user_id'].map(dict(zip(cv_2['user_id'],cv_2['mean_2'])))\n",
    "final['std'] = final['user_id'].map(dict(zip(cv_3['user_id'],cv_3['std'])))\n",
    "final['std_2'] = final['user_id'].map(dict(zip(cv_4['user_id'],cv_4['std_2'])))\n",
    "final['min'] = final['user_id'].map(dict(zip(cv_4['user_id'],cv_5['min'])))\n",
    "final['max'] = final['user_id'].map(dict(zip(cv_4['user_id'],cv_6['max'])))"
   ]
  },
  {
   "cell_type": "code",
   "execution_count": 34,
   "id": "106dd800",
   "metadata": {
    "ExecuteTime": {
     "end_time": "2022-02-13T17:47:00.783483Z",
     "start_time": "2022-02-13T17:47:00.767747Z"
    }
   },
   "outputs": [
    {
     "data": {
      "text/html": [
       "<div>\n",
       "<style scoped>\n",
       "    .dataframe tbody tr th:only-of-type {\n",
       "        vertical-align: middle;\n",
       "    }\n",
       "\n",
       "    .dataframe tbody tr th {\n",
       "        vertical-align: top;\n",
       "    }\n",
       "\n",
       "    .dataframe thead th {\n",
       "        text-align: right;\n",
       "    }\n",
       "</style>\n",
       "<table border=\"1\" class=\"dataframe\">\n",
       "  <thead>\n",
       "    <tr style=\"text-align: right;\">\n",
       "      <th></th>\n",
       "      <th>row_id</th>\n",
       "      <th>user_id</th>\n",
       "      <th>category_id</th>\n",
       "      <th>video_id</th>\n",
       "      <th>age</th>\n",
       "      <th>gender</th>\n",
       "      <th>profession</th>\n",
       "      <th>followers</th>\n",
       "      <th>views</th>\n",
       "      <th>engagement_score</th>\n",
       "      <th>engagement_score_lag_1</th>\n",
       "      <th>engagement_score_cat_wise_1</th>\n",
       "      <th>Mean</th>\n",
       "      <th>Mean_2</th>\n",
       "      <th>std</th>\n",
       "      <th>std_2</th>\n",
       "      <th>min</th>\n",
       "      <th>max</th>\n",
       "    </tr>\n",
       "  </thead>\n",
       "  <tbody>\n",
       "    <tr>\n",
       "      <th>0</th>\n",
       "      <td>3</td>\n",
       "      <td>1840</td>\n",
       "      <td>12</td>\n",
       "      <td>24</td>\n",
       "      <td>19</td>\n",
       "      <td>Male</td>\n",
       "      <td>Student</td>\n",
       "      <td>180</td>\n",
       "      <td>138</td>\n",
       "      <td>4.35</td>\n",
       "      <td>0.0</td>\n",
       "      <td>0.0</td>\n",
       "      <td>4.19</td>\n",
       "      <td>4.06</td>\n",
       "      <td>0.37</td>\n",
       "      <td>0.41</td>\n",
       "      <td>3.77</td>\n",
       "      <td>4.35</td>\n",
       "    </tr>\n",
       "    <tr>\n",
       "      <th>1</th>\n",
       "      <td>6</td>\n",
       "      <td>9323</td>\n",
       "      <td>25</td>\n",
       "      <td>139</td>\n",
       "      <td>35</td>\n",
       "      <td>Male</td>\n",
       "      <td>Other</td>\n",
       "      <td>240</td>\n",
       "      <td>317</td>\n",
       "      <td>3.33</td>\n",
       "      <td>0.0</td>\n",
       "      <td>0.0</td>\n",
       "      <td>3.39</td>\n",
       "      <td>3.38</td>\n",
       "      <td>0.05</td>\n",
       "      <td>0.07</td>\n",
       "      <td>3.33</td>\n",
       "      <td>3.43</td>\n",
       "    </tr>\n",
       "    <tr>\n",
       "      <th>2</th>\n",
       "      <td>7</td>\n",
       "      <td>2071</td>\n",
       "      <td>7</td>\n",
       "      <td>14</td>\n",
       "      <td>23</td>\n",
       "      <td>Male</td>\n",
       "      <td>Student</td>\n",
       "      <td>160</td>\n",
       "      <td>467</td>\n",
       "      <td>3.80</td>\n",
       "      <td>0.0</td>\n",
       "      <td>0.0</td>\n",
       "      <td>3.64</td>\n",
       "      <td>4.00</td>\n",
       "      <td>0.60</td>\n",
       "      <td>0.29</td>\n",
       "      <td>2.80</td>\n",
       "      <td>4.21</td>\n",
       "    </tr>\n",
       "    <tr>\n",
       "      <th>3</th>\n",
       "      <td>8</td>\n",
       "      <td>21848</td>\n",
       "      <td>8</td>\n",
       "      <td>100</td>\n",
       "      <td>18</td>\n",
       "      <td>Male</td>\n",
       "      <td>Student</td>\n",
       "      <td>280</td>\n",
       "      <td>628</td>\n",
       "      <td>3.87</td>\n",
       "      <td>0.0</td>\n",
       "      <td>0.0</td>\n",
       "      <td>3.34</td>\n",
       "      <td>3.49</td>\n",
       "      <td>0.60</td>\n",
       "      <td>0.54</td>\n",
       "      <td>2.60</td>\n",
       "      <td>3.87</td>\n",
       "    </tr>\n",
       "    <tr>\n",
       "      <th>4</th>\n",
       "      <td>10</td>\n",
       "      <td>16058</td>\n",
       "      <td>5</td>\n",
       "      <td>161</td>\n",
       "      <td>19</td>\n",
       "      <td>Male</td>\n",
       "      <td>Student</td>\n",
       "      <td>240</td>\n",
       "      <td>229</td>\n",
       "      <td>3.80</td>\n",
       "      <td>0.0</td>\n",
       "      <td>0.0</td>\n",
       "      <td>3.59</td>\n",
       "      <td>3.81</td>\n",
       "      <td>0.42</td>\n",
       "      <td>0.02</td>\n",
       "      <td>2.96</td>\n",
       "      <td>3.83</td>\n",
       "    </tr>\n",
       "  </tbody>\n",
       "</table>\n",
       "</div>"
      ],
      "text/plain": [
       "   row_id  user_id  category_id  video_id  age gender profession  followers  \\\n",
       "0       3     1840           12        24   19   Male    Student        180   \n",
       "1       6     9323           25       139   35   Male      Other        240   \n",
       "2       7     2071            7        14   23   Male    Student        160   \n",
       "3       8    21848            8       100   18   Male    Student        280   \n",
       "4      10    16058            5       161   19   Male    Student        240   \n",
       "\n",
       "   views  engagement_score  engagement_score_lag_1  \\\n",
       "0    138              4.35                     0.0   \n",
       "1    317              3.33                     0.0   \n",
       "2    467              3.80                     0.0   \n",
       "3    628              3.87                     0.0   \n",
       "4    229              3.80                     0.0   \n",
       "\n",
       "   engagement_score_cat_wise_1  Mean  Mean_2   std  std_2   min   max  \n",
       "0                          0.0  4.19    4.06  0.37   0.41  3.77  4.35  \n",
       "1                          0.0  3.39    3.38  0.05   0.07  3.33  3.43  \n",
       "2                          0.0  3.64    4.00  0.60   0.29  2.80  4.21  \n",
       "3                          0.0  3.34    3.49  0.60   0.54  2.60  3.87  \n",
       "4                          0.0  3.59    3.81  0.42   0.02  2.96  3.83  "
      ]
     },
     "execution_count": 34,
     "metadata": {},
     "output_type": "execute_result"
    }
   ],
   "source": [
    "final.head()"
   ]
  },
  {
   "cell_type": "code",
   "execution_count": null,
   "id": "e25e0cc3",
   "metadata": {},
   "outputs": [],
   "source": []
  },
  {
   "cell_type": "code",
   "execution_count": 35,
   "id": "42c3753f",
   "metadata": {
    "ExecuteTime": {
     "end_time": "2022-02-13T17:47:00.787554Z",
     "start_time": "2022-02-13T17:47:00.784963Z"
    }
   },
   "outputs": [],
   "source": [
    "# final[final['user_id'] == 2]\n",
    "# final[(final['user_id'] == 2) & (final['category_id'] == 3)]"
   ]
  },
  {
   "cell_type": "code",
   "execution_count": 36,
   "id": "8f7435ee",
   "metadata": {
    "ExecuteTime": {
     "end_time": "2022-02-13T17:47:00.805172Z",
     "start_time": "2022-02-13T17:47:00.789031Z"
    }
   },
   "outputs": [],
   "source": [
    "# separate train and test data again to model training \n",
    "df = final[final.index>0]\n",
    "test = final[final.index<0]"
   ]
  },
  {
   "cell_type": "code",
   "execution_count": 37,
   "id": "d5c26de4",
   "metadata": {
    "ExecuteTime": {
     "end_time": "2022-02-13T17:47:00.856693Z",
     "start_time": "2022-02-13T17:47:00.806913Z"
    }
   },
   "outputs": [
    {
     "data": {
      "text/plain": [
       "80"
      ]
     },
     "execution_count": 37,
     "metadata": {},
     "output_type": "execute_result"
    }
   ],
   "source": [
    "gc.collect()"
   ]
  },
  {
   "cell_type": "markdown",
   "id": "de843ed9",
   "metadata": {},
   "source": [
    "### Try Auto ML"
   ]
  },
  {
   "cell_type": "code",
   "execution_count": 38,
   "id": "3900b921",
   "metadata": {
    "ExecuteTime": {
     "end_time": "2022-02-13T17:47:00.860964Z",
     "start_time": "2022-02-13T17:47:00.858545Z"
    }
   },
   "outputs": [],
   "source": [
    "# data = df.drop('row_id',axis=1)\n",
    "# from pycaret.regression import *\n",
    "# exp_reg101 = setup(data = data, target = 'engagement_score', session_id=123) \n",
    "\n",
    "# best = compare_models()\n",
    "\n",
    "# evaluate_model(best)"
   ]
  },
  {
   "cell_type": "markdown",
   "id": "f770c7bc",
   "metadata": {},
   "source": [
    "### Check Model accuracy on train data/Validation data with Train-Test Split"
   ]
  },
  {
   "cell_type": "markdown",
   "id": "ccdb5f99",
   "metadata": {},
   "source": [
    "#### Train-test Split"
   ]
  },
  {
   "cell_type": "code",
   "execution_count": 39,
   "id": "b5fe5222",
   "metadata": {
    "ExecuteTime": {
     "end_time": "2022-02-13T17:47:00.865493Z",
     "start_time": "2022-02-13T17:47:00.862504Z"
    }
   },
   "outputs": [],
   "source": [
    "# # train_test split\n",
    "# X = df.drop(['engagement_score'],axis=1)\n",
    "# y = df['engagement_score']\n",
    "# X_train, X_test, y_train, y_test = train_test_split(X, y, test_size=0.33, random_state=42)"
   ]
  },
  {
   "cell_type": "markdown",
   "id": "e756b6ee",
   "metadata": {},
   "source": [
    "#### Machine Learning Model on Train and Validation data"
   ]
  },
  {
   "cell_type": "code",
   "execution_count": 40,
   "id": "de650039",
   "metadata": {
    "ExecuteTime": {
     "end_time": "2022-02-13T17:47:00.870204Z",
     "start_time": "2022-02-13T17:47:00.867078Z"
    },
    "code_folding": []
   },
   "outputs": [],
   "source": [
    "# ## Train dummification categorical variables\n",
    "# import xgboost\n",
    "# from xgboost import plot_importance\n",
    "\n",
    "# # create copy of data\n",
    "# X_train_xgb = X_train.copy()\n",
    "# X_test_xgb = X_test.copy()\n",
    "\n",
    "# # OHE for categorical variables\n",
    "# v_final_train = pd.get_dummies(X_train_xgb[['gender', 'profession']])\n",
    "# X_train_xgb = pd.concat((X_train_xgb[['row_id','user_id', 'category_id', 'video_id', 'age', 'followers', 'views']],v_final_train), axis = 1)\n",
    "\n",
    "# v_final_test = pd.get_dummies(X_test_xgb[['gender', 'profession']])\n",
    "# X_test_xgb = pd.concat((X_test_xgb[['row_id','user_id', 'category_id', 'video_id', 'age', 'followers', 'views']],v_final_test), axis = 1)\n",
    "\n",
    "# # fit model with best tuned parameter\n",
    "\n",
    "# # xgb_model = xgboost.XGBRegressor(seed=42)\n",
    "\n",
    "# best_xgb_model = xgboost.XGBRegressor(colsample_bytree=0.4,\n",
    "#                  gamma=0,                 \n",
    "#                  learning_rate=0.07,\n",
    "#                  max_depth=3,\n",
    "#                  min_child_weight=1.5,\n",
    "#                  n_estimators=10000,                                                                    \n",
    "#                  reg_alpha=0.75,\n",
    "#                  reg_lambda=0.45,\n",
    "#                  subsample=0.6,\n",
    "#                  seed=42)\n",
    "\n",
    "# # Fit train data\n",
    "# best_xgb_model.fit(X_train_xgb.drop(['row_id'],axis=1),y_train)\n",
    "\n",
    "# # prediction on validation data\n",
    "# y_pred_xgb = best_xgb_model.predict(X_test_xgb.drop(['row_id'],axis=1))\n",
    "\n",
    "# # check model performance.\n",
    "# print(f\"R2 from XGB model is: {r2_score(y_test,y_pred_xgb)}\")"
   ]
  },
  {
   "cell_type": "code",
   "execution_count": 41,
   "id": "821d426c",
   "metadata": {
    "ExecuteTime": {
     "end_time": "2022-02-13T17:47:00.915569Z",
     "start_time": "2022-02-13T17:47:00.871559Z"
    }
   },
   "outputs": [
    {
     "data": {
      "text/plain": [
       "80"
      ]
     },
     "execution_count": 41,
     "metadata": {},
     "output_type": "execute_result"
    }
   ],
   "source": [
    "gc.collect()"
   ]
  },
  {
   "cell_type": "markdown",
   "id": "1bbff7dc",
   "metadata": {},
   "source": [
    "### Prediction On Unseen Data"
   ]
  },
  {
   "cell_type": "code",
   "execution_count": 42,
   "id": "ee1f5eac",
   "metadata": {
    "ExecuteTime": {
     "end_time": "2022-02-13T17:47:00.944541Z",
     "start_time": "2022-02-13T17:47:00.917167Z"
    }
   },
   "outputs": [
    {
     "data": {
      "text/html": [
       "<div>\n",
       "<style scoped>\n",
       "    .dataframe tbody tr th:only-of-type {\n",
       "        vertical-align: middle;\n",
       "    }\n",
       "\n",
       "    .dataframe tbody tr th {\n",
       "        vertical-align: top;\n",
       "    }\n",
       "\n",
       "    .dataframe thead th {\n",
       "        text-align: right;\n",
       "    }\n",
       "</style>\n",
       "<table border=\"1\" class=\"dataframe\">\n",
       "  <thead>\n",
       "    <tr style=\"text-align: right;\">\n",
       "      <th></th>\n",
       "      <th>row_id</th>\n",
       "      <th>user_id</th>\n",
       "      <th>category_id</th>\n",
       "      <th>video_id</th>\n",
       "      <th>age</th>\n",
       "      <th>gender</th>\n",
       "      <th>profession</th>\n",
       "      <th>followers</th>\n",
       "      <th>views</th>\n",
       "      <th>engagement_score</th>\n",
       "      <th>engagement_score_lag_1</th>\n",
       "      <th>engagement_score_cat_wise_1</th>\n",
       "      <th>Mean</th>\n",
       "      <th>Mean_2</th>\n",
       "      <th>std</th>\n",
       "      <th>std_2</th>\n",
       "      <th>min</th>\n",
       "      <th>max</th>\n",
       "    </tr>\n",
       "  </thead>\n",
       "  <tbody>\n",
       "    <tr>\n",
       "      <th>1</th>\n",
       "      <td>6</td>\n",
       "      <td>9323</td>\n",
       "      <td>25</td>\n",
       "      <td>139</td>\n",
       "      <td>35</td>\n",
       "      <td>Male</td>\n",
       "      <td>Other</td>\n",
       "      <td>240</td>\n",
       "      <td>317</td>\n",
       "      <td>3.33</td>\n",
       "      <td>0.0</td>\n",
       "      <td>0.0</td>\n",
       "      <td>3.39</td>\n",
       "      <td>3.38</td>\n",
       "      <td>0.05</td>\n",
       "      <td>0.07</td>\n",
       "      <td>3.33</td>\n",
       "      <td>3.43</td>\n",
       "    </tr>\n",
       "    <tr>\n",
       "      <th>2</th>\n",
       "      <td>7</td>\n",
       "      <td>2071</td>\n",
       "      <td>7</td>\n",
       "      <td>14</td>\n",
       "      <td>23</td>\n",
       "      <td>Male</td>\n",
       "      <td>Student</td>\n",
       "      <td>160</td>\n",
       "      <td>467</td>\n",
       "      <td>3.80</td>\n",
       "      <td>0.0</td>\n",
       "      <td>0.0</td>\n",
       "      <td>3.64</td>\n",
       "      <td>4.00</td>\n",
       "      <td>0.60</td>\n",
       "      <td>0.29</td>\n",
       "      <td>2.80</td>\n",
       "      <td>4.21</td>\n",
       "    </tr>\n",
       "    <tr>\n",
       "      <th>3</th>\n",
       "      <td>8</td>\n",
       "      <td>21848</td>\n",
       "      <td>8</td>\n",
       "      <td>100</td>\n",
       "      <td>18</td>\n",
       "      <td>Male</td>\n",
       "      <td>Student</td>\n",
       "      <td>280</td>\n",
       "      <td>628</td>\n",
       "      <td>3.87</td>\n",
       "      <td>0.0</td>\n",
       "      <td>0.0</td>\n",
       "      <td>3.34</td>\n",
       "      <td>3.49</td>\n",
       "      <td>0.60</td>\n",
       "      <td>0.54</td>\n",
       "      <td>2.60</td>\n",
       "      <td>3.87</td>\n",
       "    </tr>\n",
       "  </tbody>\n",
       "</table>\n",
       "</div>"
      ],
      "text/plain": [
       "   row_id  user_id  category_id  video_id  age gender profession  followers  \\\n",
       "1       6     9323           25       139   35   Male      Other        240   \n",
       "2       7     2071            7        14   23   Male    Student        160   \n",
       "3       8    21848            8       100   18   Male    Student        280   \n",
       "\n",
       "   views  engagement_score  engagement_score_lag_1  \\\n",
       "1    317              3.33                     0.0   \n",
       "2    467              3.80                     0.0   \n",
       "3    628              3.87                     0.0   \n",
       "\n",
       "   engagement_score_cat_wise_1  Mean  Mean_2   std  std_2   min   max  \n",
       "1                          0.0  3.39    3.38  0.05   0.07  3.33  3.43  \n",
       "2                          0.0  3.64    4.00  0.60   0.29  2.80  4.21  \n",
       "3                          0.0  3.34    3.49  0.60   0.54  2.60  3.87  "
      ]
     },
     "execution_count": 42,
     "metadata": {},
     "output_type": "execute_result"
    },
    {
     "data": {
      "text/html": [
       "<div>\n",
       "<style scoped>\n",
       "    .dataframe tbody tr th:only-of-type {\n",
       "        vertical-align: middle;\n",
       "    }\n",
       "\n",
       "    .dataframe tbody tr th {\n",
       "        vertical-align: top;\n",
       "    }\n",
       "\n",
       "    .dataframe thead th {\n",
       "        text-align: right;\n",
       "    }\n",
       "</style>\n",
       "<table border=\"1\" class=\"dataframe\">\n",
       "  <thead>\n",
       "    <tr style=\"text-align: right;\">\n",
       "      <th></th>\n",
       "      <th>row_id</th>\n",
       "      <th>user_id</th>\n",
       "      <th>category_id</th>\n",
       "      <th>video_id</th>\n",
       "      <th>age</th>\n",
       "      <th>gender</th>\n",
       "      <th>profession</th>\n",
       "      <th>followers</th>\n",
       "      <th>views</th>\n",
       "      <th>engagement_score</th>\n",
       "      <th>engagement_score_lag_1</th>\n",
       "      <th>engagement_score_cat_wise_1</th>\n",
       "      <th>Mean</th>\n",
       "      <th>Mean_2</th>\n",
       "      <th>std</th>\n",
       "      <th>std_2</th>\n",
       "      <th>min</th>\n",
       "      <th>max</th>\n",
       "    </tr>\n",
       "  </thead>\n",
       "  <tbody>\n",
       "    <tr>\n",
       "      <th>-1</th>\n",
       "      <td>89198</td>\n",
       "      <td>7986</td>\n",
       "      <td>12</td>\n",
       "      <td>42</td>\n",
       "      <td>14</td>\n",
       "      <td>Male</td>\n",
       "      <td>Student</td>\n",
       "      <td>180</td>\n",
       "      <td>138</td>\n",
       "      <td>0.0</td>\n",
       "      <td>4.14</td>\n",
       "      <td>4.14</td>\n",
       "      <td>4.20</td>\n",
       "      <td>4.20</td>\n",
       "      <td>0.08</td>\n",
       "      <td>0.08</td>\n",
       "      <td>4.14</td>\n",
       "      <td>4.25</td>\n",
       "    </tr>\n",
       "    <tr>\n",
       "      <th>-2</th>\n",
       "      <td>89199</td>\n",
       "      <td>11278</td>\n",
       "      <td>34</td>\n",
       "      <td>115</td>\n",
       "      <td>14</td>\n",
       "      <td>Male</td>\n",
       "      <td>Student</td>\n",
       "      <td>230</td>\n",
       "      <td>840</td>\n",
       "      <td>0.0</td>\n",
       "      <td>3.87</td>\n",
       "      <td>3.87</td>\n",
       "      <td>4.15</td>\n",
       "      <td>4.28</td>\n",
       "      <td>0.28</td>\n",
       "      <td>0.26</td>\n",
       "      <td>3.87</td>\n",
       "      <td>4.46</td>\n",
       "    </tr>\n",
       "    <tr>\n",
       "      <th>-3</th>\n",
       "      <td>89200</td>\n",
       "      <td>17245</td>\n",
       "      <td>8</td>\n",
       "      <td>110</td>\n",
       "      <td>44</td>\n",
       "      <td>Female</td>\n",
       "      <td>Working Professional</td>\n",
       "      <td>280</td>\n",
       "      <td>628</td>\n",
       "      <td>0.0</td>\n",
       "      <td>2.32</td>\n",
       "      <td>2.32</td>\n",
       "      <td>2.23</td>\n",
       "      <td>1.98</td>\n",
       "      <td>0.30</td>\n",
       "      <td>0.37</td>\n",
       "      <td>1.71</td>\n",
       "      <td>2.24</td>\n",
       "    </tr>\n",
       "  </tbody>\n",
       "</table>\n",
       "</div>"
      ],
      "text/plain": [
       "    row_id  user_id  category_id  video_id  age  gender            profession  \\\n",
       "-1   89198     7986           12        42   14    Male               Student   \n",
       "-2   89199    11278           34       115   14    Male               Student   \n",
       "-3   89200    17245            8       110   44  Female  Working Professional   \n",
       "\n",
       "    followers  views  engagement_score  engagement_score_lag_1  \\\n",
       "-1        180    138               0.0                    4.14   \n",
       "-2        230    840               0.0                    3.87   \n",
       "-3        280    628               0.0                    2.32   \n",
       "\n",
       "    engagement_score_cat_wise_1  Mean  Mean_2   std  std_2   min   max  \n",
       "-1                         4.14  4.20    4.20  0.08   0.08  4.14  4.25  \n",
       "-2                         3.87  4.15    4.28  0.28   0.26  3.87  4.46  \n",
       "-3                         2.32  2.23    1.98  0.30   0.37  1.71  2.24  "
      ]
     },
     "execution_count": 42,
     "metadata": {},
     "output_type": "execute_result"
    }
   ],
   "source": [
    "df.head(3)\n",
    "test.head(3)"
   ]
  },
  {
   "cell_type": "code",
   "execution_count": 43,
   "id": "e8779134",
   "metadata": {
    "ExecuteTime": {
     "end_time": "2022-02-13T17:47:46.692720Z",
     "start_time": "2022-02-13T17:47:00.946179Z"
    }
   },
   "outputs": [
    {
     "data": {
      "text/plain": [
       "XGBRegressor(base_score=0.5, booster='gbtree', colsample_bylevel=1,\n",
       "             colsample_bynode=1, colsample_bytree=0.4, gamma=0, gpu_id=-1,\n",
       "             importance_type='gain', interaction_constraints='',\n",
       "             learning_rate=0.07, max_delta_step=0, max_depth=3,\n",
       "             min_child_weight=1.5, missing=nan, monotone_constraints='()',\n",
       "             n_estimators=10000, n_jobs=0, num_parallel_tree=1, random_state=42,\n",
       "             reg_alpha=0.75, reg_lambda=0.45, scale_pos_weight=1, seed=42,\n",
       "             subsample=0.6, tree_method='exact', validate_parameters=1,\n",
       "             verbosity=None)"
      ]
     },
     "execution_count": 43,
     "metadata": {},
     "output_type": "execute_result"
    }
   ],
   "source": [
    "# fit XGB Model\n",
    "import xgboost\n",
    "\n",
    "# create copy of data\n",
    "X_train_xgb = df.drop(['engagement_score'],axis=1)\n",
    "y_train = df['engagement_score']\n",
    "\n",
    "del test['engagement_score']\n",
    "X_test_xgb = test.copy()\n",
    "\n",
    "# OHE for categorical variables for training data\n",
    "v_final_train = pd.get_dummies(X_train_xgb[['gender', 'profession','category_id']])\n",
    "X_train_xgb = pd.concat((X_train_xgb[['row_id','user_id', 'video_id', 'age', 'followers','Mean','Mean_2','std','std_2','min','max',\n",
    "                                      'views','engagement_score_lag_1', 'engagement_score_cat_wise_1']],v_final_train), axis = 1)\n",
    "\n",
    "# OHE for categorical variables for testing data\n",
    "v_final_test = pd.get_dummies(X_test_xgb[['gender', 'profession','category_id']])\n",
    "X_test_xgb = pd.concat((X_test_xgb[['row_id','user_id', 'video_id', 'age', 'followers','Mean','Mean_2','std','std_2','min','max',\n",
    "                                    'views','engagement_score_lag_1', 'engagement_score_cat_wise_1']],v_final_test), axis = 1)\n",
    "\n",
    "# fit model with best tuned parameter\n",
    "best_xgb_model = xgboost.XGBRegressor(colsample_bytree=0.4,\n",
    "                 gamma=0,                 \n",
    "                 learning_rate=0.07,\n",
    "                 max_depth=3,\n",
    "                 min_child_weight=1.5,\n",
    "                 n_estimators=10000,                                                                    \n",
    "                 reg_alpha=0.75,\n",
    "                 reg_lambda=0.45,\n",
    "                 subsample=0.6,\n",
    "                 seed=42)\n",
    "\n",
    "# Model Fit train data\n",
    "best_xgb_model.fit(X_train_xgb.drop(['row_id'],axis=1),y_train)\n",
    "\n",
    "# Model Prediction on Unseen data\n",
    "y_pred_xgb = best_xgb_model.predict(X_test_xgb.drop(['row_id'],axis=1))"
   ]
  },
  {
   "cell_type": "code",
   "execution_count": 44,
   "id": "bb3d5f30",
   "metadata": {
    "ExecuteTime": {
     "end_time": "2022-02-13T17:47:46.773101Z",
     "start_time": "2022-02-13T17:47:46.694655Z"
    }
   },
   "outputs": [
    {
     "data": {
      "text/plain": [
       "29"
      ]
     },
     "execution_count": 44,
     "metadata": {},
     "output_type": "execute_result"
    }
   ],
   "source": [
    "gc.collect()"
   ]
  },
  {
   "cell_type": "markdown",
   "id": "0e7bdc79",
   "metadata": {},
   "source": [
    "### Submission"
   ]
  },
  {
   "cell_type": "code",
   "execution_count": 46,
   "id": "5690cf41",
   "metadata": {
    "ExecuteTime": {
     "end_time": "2022-02-13T17:49:32.320744Z",
     "start_time": "2022-02-13T17:49:32.292372Z"
    }
   },
   "outputs": [],
   "source": [
    "test['engagement_score'] = y_pred_xgb\n",
    "submission = test[['row_id','engagement_score']]\n",
    "\n",
    "submission.to_csv('Final_submission_Sachin_Rathi_3.csv',index=False)"
   ]
  },
  {
   "cell_type": "code",
   "execution_count": null,
   "id": "44c2223b",
   "metadata": {},
   "outputs": [],
   "source": []
  }
 ],
 "metadata": {
  "kernelspec": {
   "display_name": "Python 3",
   "language": "python",
   "name": "python3"
  },
  "language_info": {
   "codemirror_mode": {
    "name": "ipython",
    "version": 3
   },
   "file_extension": ".py",
   "mimetype": "text/x-python",
   "name": "python",
   "nbconvert_exporter": "python",
   "pygments_lexer": "ipython3",
   "version": "3.8.3"
  }
 },
 "nbformat": 4,
 "nbformat_minor": 5
}
